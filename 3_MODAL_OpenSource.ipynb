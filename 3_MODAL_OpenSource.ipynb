{
 "cells": [
  {
   "cell_type": "code",
   "execution_count": null,
   "id": "c33f3917",
   "metadata": {},
   "outputs": [],
   "source": [
    "import modal"
   ]
  },
  {
   "cell_type": "code",
   "execution_count": null,
   "id": "7050509c",
   "metadata": {},
   "outputs": [
    {
     "name": "stdout",
     "output_type": "stream",
     "text": [
      "⠋ Waiting for authentication in the web browser\n",
      "The web browser should have opened for you to authenticate and get an API \n",
      "token.\n",
      "If it didn't, please copy this URL into your web browser manually:\n",
      "\n",
      "⠙ Waiting for authentication in the web browser\n",
      "https://modal.com/token-flow/tf-N2qSRtGsI2QyhKmL7GqotB\n",
      "\n",
      "⠙ Waiting for authentication in the web browser\n",
      "⠙ Waiting for authentication in the web browser\n",
      "\n",
      "⠋ Waiting for token flow to complete...\n",
      "⠙ Waiting for token flow to complete...\n",
      "⠹ Waiting for token flow to complete...\n",
      "⠸ Waiting for token flow to complete...\n",
      "⠼ Waiting for token flow to complete...\n",
      "⠴ Waiting for token flow to complete...\n",
      "⠧ Waiting for token flow to complete...\n",
      "⠇ Waiting for token flow to complete...\n",
      "⠏ Waiting for token flow to complete...\n",
      "⠋ Waiting for token flow to complete...\n",
      "⠙ Waiting for token flow to complete...\n",
      "⠹ Waiting for token flow to complete...\n",
      "⠸ Waiting for token flow to complete...\n",
      "⠴ Waiting for token flow to complete...\n",
      "⠦ Waiting for token flow to complete...\n",
      "⠧ Waiting for token flow to complete...\n",
      "⠇ Waiting for token flow to complete...\n",
      "⠏ Waiting for token flow to complete...\n",
      "⠋ Waiting for token flow to complete...\n",
      "⠹ Waiting for token flow to complete...\n",
      "⠸ Waiting for token flow to complete...\n",
      "⠼ Waiting for token flow to complete...\n",
      "⠴ Waiting for token flow to complete...\n",
      "⠦ Waiting for token flow to complete...\n",
      "⠧ Waiting for token flow to complete...\n",
      "⠏ Waiting for token flow to complete...\n",
      "⠋ Waiting for token flow to complete...\n",
      "⠙ Waiting for token flow to complete...\n",
      "⠹ Waiting for token flow to complete...\n",
      "⠸ Waiting for token flow to complete...\n",
      "⠼ Waiting for token flow to complete...\n",
      "⠴ Waiting for token flow to complete...\n",
      "⠧ Waiting for token flow to complete...\n",
      "⠇ Waiting for token flow to complete...\n",
      "⠏ Waiting for token flow to complete...\n",
      "⠋ Waiting for token flow to complete...\n",
      "⠙ Waiting for token flow to complete...\n",
      "⠹ Waiting for token flow to complete...\n",
      "⠼ Waiting for token flow to complete...\n",
      "⠴ Waiting for token flow to complete...\n",
      "⠦ Waiting for token flow to complete...\n",
      "⠧ Waiting for token flow to complete...\n",
      "⠇ Waiting for token flow to complete...\n",
      "⠋ Waiting for token flow to complete...\n",
      "⠙ Waiting for token flow to complete...\n",
      "⠹ Waiting for token flow to complete...\n",
      "⠸ Waiting for token flow to complete...\n",
      "⠼ Waiting for token flow to complete...\n",
      "⠴ Waiting for token flow to complete...\n",
      "⠧ Waiting for token flow to complete...\n",
      "\n",
      "Web authentication finished successfully!\n",
      "Token is connected to the arunabeshc workspace.\n",
      "Verifying token against https://api.modal.com\n",
      "Token verified successfully!\n",
      "⠋ Storing token\n",
      "\n",
      "Token written to C:\\Users\\aruna/.modal.toml in profile arunabeshc.\n"
     ]
    }
   ],
   "source": [
    "!modal setup"
   ]
  },
  {
   "cell_type": "code",
   "execution_count": 6,
   "id": "ac89ab75",
   "metadata": {},
   "outputs": [],
   "source": [
    "from classes.llama import app, generate"
   ]
  },
  {
   "cell_type": "code",
   "execution_count": 7,
   "id": "32dd9e53",
   "metadata": {},
   "outputs": [
    {
     "data": {
      "application/vnd.jupyter.widget-view+json": {
       "model_id": "8ded513d9d634bdc87a8c82bf28bca90",
       "version_major": 2,
       "version_minor": 0
      },
      "text/plain": [
       "Output()"
      ]
     },
     "metadata": {},
     "output_type": "display_data"
    },
    {
     "data": {
      "text/html": [
       "<pre style=\"white-space:pre;overflow-x:auto;line-height:normal;font-family:Menlo,'DejaVu Sans Mono',consolas,'Courier New',monospace\"><span style=\"color: #008000; text-decoration-color: #008000\">✓</span> Initialized. <span style=\"color: #b2b2b2; text-decoration-color: #b2b2b2\">View run at </span><span style=\"color: #b2b2b2; text-decoration-color: #b2b2b2; text-decoration: underline\">https://modal.com/apps/arunabeshc/main/ap-7ZGd1Rht62CvoKSnxbcZvW</span>\n",
       "</pre>\n"
      ],
      "text/plain": [
       "\u001b[32m✓\u001b[0m Initialized. \u001b[38;5;249mView run at \u001b[0m\u001b[4;38;5;249mhttps://modal.com/apps/arunabeshc/main/ap-7ZGd1Rht62CvoKSnxbcZvW\u001b[0m\n"
      ]
     },
     "metadata": {},
     "output_type": "display_data"
    },
    {
     "data": {
      "text/html": [
       "<pre style=\"white-space:pre;overflow-x:auto;line-height:normal;font-family:Menlo,'DejaVu Sans Mono',consolas,'Courier New',monospace\"></pre>\n"
      ],
      "text/plain": []
     },
     "metadata": {},
     "output_type": "display_data"
    },
    {
     "data": {
      "application/vnd.jupyter.widget-view+json": {
       "model_id": "f31b1294898842d79fc776f2dd2a0c59",
       "version_major": 2,
       "version_minor": 0
      },
      "text/plain": [
       "Output()"
      ]
     },
     "metadata": {},
     "output_type": "display_data"
    },
    {
     "data": {
      "text/html": [
       "<pre style=\"white-space:pre;overflow-x:auto;line-height:normal;font-family:Menlo,'DejaVu Sans Mono',consolas,'Courier New',monospace\"></pre>\n"
      ],
      "text/plain": []
     },
     "metadata": {},
     "output_type": "display_data"
    },
    {
     "data": {
      "text/html": [
       "<pre style=\"white-space:pre;overflow-x:auto;line-height:normal;font-family:Menlo,'DejaVu Sans Mono',consolas,'Courier New',monospace\"><span style=\"color: #008000; text-decoration-color: #008000\">✓</span> Created objects.\n",
       "<span style=\"color: #808080; text-decoration-color: #808080\">├── </span>🔨 Created mount PythonPackage:classes\n",
       "<span style=\"color: #808080; text-decoration-color: #808080\">└── </span>🔨 Created function generate.\n",
       "</pre>\n"
      ],
      "text/plain": [
       "\u001b[32m✓\u001b[0m Created objects.\n",
       "\u001b[38;5;244m├── \u001b[0m🔨 Created mount PythonPackage:classes\n",
       "\u001b[38;5;244m└── \u001b[0m🔨 Created function generate.\n"
      ]
     },
     "metadata": {},
     "output_type": "display_data"
    },
    {
     "data": {
      "application/vnd.jupyter.widget-view+json": {
       "model_id": "2bd46d75e716419fa0e6521ca67f53bf",
       "version_major": 2,
       "version_minor": 0
      },
      "text/plain": [
       "Output()"
      ]
     },
     "metadata": {},
     "output_type": "display_data"
    },
    {
     "data": {
      "text/html": [
       "<pre style=\"white-space:pre;overflow-x:auto;line-height:normal;font-family:Menlo,'DejaVu Sans Mono',consolas,'Courier New',monospace\"><span style=\"color: #800000; text-decoration-color: #800000\">\n",
       "</span></pre>\n"
      ],
      "text/plain": [
       "\u001b[31m\n",
       "\u001b[0m"
      ]
     },
     "metadata": {},
     "output_type": "display_data"
    },
    {
     "data": {
      "text/html": [
       "<pre style=\"white-space:pre;overflow-x:auto;line-height:normal;font-family:Menlo,'DejaVu Sans Mono',consolas,'Courier New',monospace\"><span style=\"color: #800000; text-decoration-color: #800000\">\u001b[1AFetching 4 files:   0%|          | 0/4 [00:00&lt;?, ?it/s]</span></pre>\n"
      ],
      "text/plain": [
       "\u001b[31m\u001b[1AFetching 4 files:   0%|          | 0/4 [00:00<?, ?it/s]\u001b[0m"
      ]
     },
     "metadata": {},
     "output_type": "display_data"
    },
    {
     "data": {
      "text/html": [
       "<pre style=\"white-space:pre;overflow-x:auto;line-height:normal;font-family:Menlo,'DejaVu Sans Mono',consolas,'Courier New',monospace\"><span style=\"color: #800000; text-decoration-color: #800000\">\n",
       "</span></pre>\n"
      ],
      "text/plain": [
       "\u001b[31m\n",
       "\u001b[0m"
      ]
     },
     "metadata": {},
     "output_type": "display_data"
    },
    {
     "data": {
      "text/html": [
       "<pre style=\"white-space:pre;overflow-x:auto;line-height:normal;font-family:Menlo,'DejaVu Sans Mono',consolas,'Courier New',monospace\"><span style=\"color: #800000; text-decoration-color: #800000\">\u001b[1AFetching 4 files:  25%|██▌       | 1/4 [01:17&lt;03:52, 77.57s/it]Fetching 4 files:  50%|█████     | 2/4 [01:18&lt;01:05, 32.72s/it]Fetching 4 files: 100%|██████████| 4/4 [01:18&lt;00:00, 19.72s/it]\n",
       "</span></pre>\n"
      ],
      "text/plain": [
       "\u001b[31m\u001b[1AFetching 4 files:  25%|██▌       | 1/4 [01:17<03:52, 77.57s/it]Fetching 4 files:  50%|█████     | 2/4 [01:18<01:05, 32.72s/it]Fetching 4 files: 100%|██████████| 4/4 [01:18<00:00, 19.72s/it]\n",
       "\u001b[0m"
      ]
     },
     "metadata": {},
     "output_type": "display_data"
    },
    {
     "data": {
      "text/html": [
       "<pre style=\"white-space:pre;overflow-x:auto;line-height:normal;font-family:Menlo,'DejaVu Sans Mono',consolas,'Courier New',monospace\"><span style=\"color: #800000; text-decoration-color: #800000\">\n",
       "</span></pre>\n"
      ],
      "text/plain": [
       "\u001b[31m\n",
       "\u001b[0m"
      ]
     },
     "metadata": {},
     "output_type": "display_data"
    },
    {
     "data": {
      "text/html": [
       "<pre style=\"white-space:pre;overflow-x:auto;line-height:normal;font-family:Menlo,'DejaVu Sans Mono',consolas,'Courier New',monospace\"><span style=\"color: #800000; text-decoration-color: #800000\">\u001b[1ALoading checkpoint shards:   0%|          | 0/4 [00:00&lt;?, ?it/s]\n",
       "</span></pre>\n"
      ],
      "text/plain": [
       "\u001b[31m\u001b[1ALoading checkpoint shards:   0%|          | 0/4 [00:00<?, ?it/s]\n",
       "\u001b[0m"
      ]
     },
     "metadata": {},
     "output_type": "display_data"
    },
    {
     "data": {
      "text/html": [
       "<pre style=\"white-space:pre;overflow-x:auto;line-height:normal;font-family:Menlo,'DejaVu Sans Mono',consolas,'Courier New',monospace\"><span style=\"color: #800000; text-decoration-color: #800000\">\u001b[1ALoading checkpoint shards:  25%|██▌       | 1/4 [00:07&lt;00:21,  7.04s/it]</span></pre>\n"
      ],
      "text/plain": [
       "\u001b[31m\u001b[1ALoading checkpoint shards:  25%|██▌       | 1/4 [00:07<00:21,  7.04s/it]\u001b[0m"
      ]
     },
     "metadata": {},
     "output_type": "display_data"
    },
    {
     "data": {
      "text/html": [
       "<pre style=\"white-space:pre;overflow-x:auto;line-height:normal;font-family:Menlo,'DejaVu Sans Mono',consolas,'Courier New',monospace\"><span style=\"color: #800000; text-decoration-color: #800000\">\n",
       "</span></pre>\n"
      ],
      "text/plain": [
       "\u001b[31m\n",
       "\u001b[0m"
      ]
     },
     "metadata": {},
     "output_type": "display_data"
    },
    {
     "data": {
      "text/html": [
       "<pre style=\"white-space:pre;overflow-x:auto;line-height:normal;font-family:Menlo,'DejaVu Sans Mono',consolas,'Courier New',monospace\"><span style=\"color: #800000; text-decoration-color: #800000\">\u001b[1ALoading checkpoint shards:  50%|█████     | 2/4 [00:13&lt;00:13,  6.79s/it]\n",
       "</span></pre>\n"
      ],
      "text/plain": [
       "\u001b[31m\u001b[1ALoading checkpoint shards:  50%|█████     | 2/4 [00:13<00:13,  6.79s/it]\n",
       "\u001b[0m"
      ]
     },
     "metadata": {},
     "output_type": "display_data"
    },
    {
     "data": {
      "text/html": [
       "<pre style=\"white-space:pre;overflow-x:auto;line-height:normal;font-family:Menlo,'DejaVu Sans Mono',consolas,'Courier New',monospace\"><span style=\"color: #800000; text-decoration-color: #800000\">\u001b[1ALoading checkpoint shards:  75%|███████▌  | 3/4 [00:19&lt;00:06,  6.34s/it]Loading checkpoint shards: 100%|██████████| 4/4 [00:19&lt;00:00,  4.01s/it]Loading checkpoint shards: 100%|██████████| 4/4 [00:19&lt;00:00,  4.98s/it]\n",
       "</span></pre>\n"
      ],
      "text/plain": [
       "\u001b[31m\u001b[1ALoading checkpoint shards:  75%|███████▌  | 3/4 [00:19<00:06,  6.34s/it]Loading checkpoint shards: 100%|██████████| 4/4 [00:19<00:00,  4.01s/it]Loading checkpoint shards: 100%|██████████| 4/4 [00:19<00:00,  4.98s/it]\n",
       "\u001b[0m"
      ]
     },
     "metadata": {},
     "output_type": "display_data"
    },
    {
     "data": {
      "text/html": [
       "<pre style=\"white-space:pre;overflow-x:auto;line-height:normal;font-family:Menlo,'DejaVu Sans Mono',consolas,'Courier New',monospace\"><span style=\"color: #800000; text-decoration-color: #800000\">Setting `pad_token_id` to `eos_token_id`:128001 for open-end generation.\n",
       "</span></pre>\n"
      ],
      "text/plain": [
       "\u001b[31mSetting `pad_token_id` to `eos_token_id`:128001 for open-end generation.\n",
       "\u001b[0m"
      ]
     },
     "metadata": {},
     "output_type": "display_data"
    },
    {
     "data": {
      "text/html": [
       "<pre style=\"white-space:pre;overflow-x:auto;line-height:normal;font-family:Menlo,'DejaVu Sans Mono',consolas,'Courier New',monospace\"></pre>\n"
      ],
      "text/plain": []
     },
     "metadata": {},
     "output_type": "display_data"
    },
    {
     "data": {
      "text/html": [
       "<pre style=\"white-space:pre;overflow-x:auto;line-height:normal;font-family:Menlo,'DejaVu Sans Mono',consolas,'Courier New',monospace\"><span style=\"color: #808000; text-decoration-color: #808000\">Stopping app - local entrypoint completed.\n",
       "</span></pre>\n"
      ],
      "text/plain": [
       "\u001b[33mStopping app - local entrypoint completed.\n",
       "\u001b[0m"
      ]
     },
     "metadata": {},
     "output_type": "display_data"
    },
    {
     "data": {
      "text/html": [
       "<pre style=\"white-space:pre;overflow-x:auto;line-height:normal;font-family:Menlo,'DejaVu Sans Mono',consolas,'Courier New',monospace\"><span style=\"color: #808000; text-decoration-color: #808000\">Runner terminated.\n",
       "</span></pre>\n"
      ],
      "text/plain": [
       "\u001b[33mRunner terminated.\n",
       "\u001b[0m"
      ]
     },
     "metadata": {},
     "output_type": "display_data"
    },
    {
     "data": {
      "text/html": [
       "<pre style=\"white-space:pre;overflow-x:auto;line-height:normal;font-family:Menlo,'DejaVu Sans Mono',consolas,'Courier New',monospace\"><span style=\"color: #008000; text-decoration-color: #008000\">✓</span> App completed. <span style=\"color: #b2b2b2; text-decoration-color: #b2b2b2\">View run at </span><span style=\"color: #b2b2b2; text-decoration-color: #b2b2b2; text-decoration: underline\">https://modal.com/apps/arunabeshc/main/ap-7ZGd1Rht62CvoKSnxbcZvW</span>\n",
       "</pre>\n"
      ],
      "text/plain": [
       "\u001b[32m✓\u001b[0m App completed. \u001b[38;5;249mView run at \u001b[0m\u001b[4;38;5;249mhttps://modal.com/apps/arunabeshc/main/ap-7ZGd1Rht62CvoKSnxbcZvW\u001b[0m\n"
      ]
     },
     "metadata": {},
     "output_type": "display_data"
    },
    {
     "data": {
      "text/plain": [
       "\"<|begin_of_text|>It's kinda funny how life can change; Can flip 180 in the blink of an eye.\\nI was in a relationship that I thought was going to last a lifetime; I thought we were going to get married, have kids, and grow old together. I was so wrong. We broke up in January 2015, and I was devastated. I didn't think I could ever love again. I was wrong again. I met someone in April, and I knew he was the one. We've been together for 2 years and 7 months, and I couldn't be happier. He makes me laugh, and he makes me feel safe. He is my best friend, and I love him so much.\\nI am so glad that I was wrong about my last relationship, and that I was wrong about my inability to love again. I am so lucky to have found such an amazing man. I know that our love will last a lifetime, and I am so grateful for it.\\nIt's amazing how life can change in the blink of an eye. I'm so glad I was wrong about my last relationship, and that I was wrong about my inability to love again. I'm so lucky to have found such an amazing man, and I know our love will last a lifetime.<|end_of_text|>\""
      ]
     },
     "execution_count": 7,
     "metadata": {},
     "output_type": "execute_result"
    }
   ],
   "source": [
    "with modal.enable_output():\n",
    "    with app.run():\n",
    "        result=generate.remote(\"It's kinda funny how life can change; Can flip 180 in\")\n",
    "result"
   ]
  },
  {
   "cell_type": "code",
   "execution_count": 9,
   "id": "652c5097",
   "metadata": {},
   "outputs": [
    {
     "data": {
      "application/vnd.jupyter.widget-view+json": {
       "model_id": "578bbb506f7f4feca2db249d95bc0325",
       "version_major": 2,
       "version_minor": 0
      },
      "text/plain": [
       "Output()"
      ]
     },
     "metadata": {},
     "output_type": "display_data"
    },
    {
     "data": {
      "text/html": [
       "<pre style=\"white-space:pre;overflow-x:auto;line-height:normal;font-family:Menlo,'DejaVu Sans Mono',consolas,'Courier New',monospace\"><span style=\"color: #008000; text-decoration-color: #008000\">✓</span> Initialized. <span style=\"color: #b2b2b2; text-decoration-color: #b2b2b2\">View run at </span><span style=\"color: #b2b2b2; text-decoration-color: #b2b2b2; text-decoration: underline\">https://modal.com/apps/arunabeshc/main/ap-59XUJwhH0iPJZ3RNT33lUa</span>\n",
       "</pre>\n"
      ],
      "text/plain": [
       "\u001b[32m✓\u001b[0m Initialized. \u001b[38;5;249mView run at \u001b[0m\u001b[4;38;5;249mhttps://modal.com/apps/arunabeshc/main/ap-59XUJwhH0iPJZ3RNT33lUa\u001b[0m\n"
      ]
     },
     "metadata": {},
     "output_type": "display_data"
    },
    {
     "data": {
      "text/html": [
       "<pre style=\"white-space:pre;overflow-x:auto;line-height:normal;font-family:Menlo,'DejaVu Sans Mono',consolas,'Courier New',monospace\"></pre>\n"
      ],
      "text/plain": []
     },
     "metadata": {},
     "output_type": "display_data"
    },
    {
     "data": {
      "application/vnd.jupyter.widget-view+json": {
       "model_id": "737ceb3210b6460aa173e740b013ca53",
       "version_major": 2,
       "version_minor": 0
      },
      "text/plain": [
       "Output()"
      ]
     },
     "metadata": {},
     "output_type": "display_data"
    },
    {
     "data": {
      "text/html": [
       "<pre style=\"white-space:pre;overflow-x:auto;line-height:normal;font-family:Menlo,'DejaVu Sans Mono',consolas,'Courier New',monospace\"></pre>\n"
      ],
      "text/plain": []
     },
     "metadata": {},
     "output_type": "display_data"
    },
    {
     "data": {
      "text/html": [
       "<pre style=\"white-space:pre;overflow-x:auto;line-height:normal;font-family:Menlo,'DejaVu Sans Mono',consolas,'Courier New',monospace\"><span style=\"color: #008000; text-decoration-color: #008000\">✓</span> Created objects.\n",
       "<span style=\"color: #808080; text-decoration-color: #808080\">├── </span>🔨 Created mount PythonPackage:classes\n",
       "<span style=\"color: #808080; text-decoration-color: #808080\">└── </span>🔨 Created function generate.\n",
       "</pre>\n"
      ],
      "text/plain": [
       "\u001b[32m✓\u001b[0m Created objects.\n",
       "\u001b[38;5;244m├── \u001b[0m🔨 Created mount PythonPackage:classes\n",
       "\u001b[38;5;244m└── \u001b[0m🔨 Created function generate.\n"
      ]
     },
     "metadata": {},
     "output_type": "display_data"
    },
    {
     "data": {
      "application/vnd.jupyter.widget-view+json": {
       "model_id": "2ee79487b2f143d4a50210a1326afd31",
       "version_major": 2,
       "version_minor": 0
      },
      "text/plain": [
       "Output()"
      ]
     },
     "metadata": {},
     "output_type": "display_data"
    },
    {
     "data": {
      "text/html": [
       "<pre style=\"white-space:pre;overflow-x:auto;line-height:normal;font-family:Menlo,'DejaVu Sans Mono',consolas,'Courier New',monospace\"><span style=\"color: #800000; text-decoration-color: #800000\">\n",
       "</span></pre>\n"
      ],
      "text/plain": [
       "\u001b[31m\n",
       "\u001b[0m"
      ]
     },
     "metadata": {},
     "output_type": "display_data"
    },
    {
     "data": {
      "text/html": [
       "<pre style=\"white-space:pre;overflow-x:auto;line-height:normal;font-family:Menlo,'DejaVu Sans Mono',consolas,'Courier New',monospace\"><span style=\"color: #800000; text-decoration-color: #800000\">\u001b[1AFetching 4 files:   0%|          | 0/4 [00:00&lt;?, ?it/s]</span></pre>\n"
      ],
      "text/plain": [
       "\u001b[31m\u001b[1AFetching 4 files:   0%|          | 0/4 [00:00<?, ?it/s]\u001b[0m"
      ]
     },
     "metadata": {},
     "output_type": "display_data"
    },
    {
     "data": {
      "text/html": [
       "<pre style=\"white-space:pre;overflow-x:auto;line-height:normal;font-family:Menlo,'DejaVu Sans Mono',consolas,'Courier New',monospace\"><span style=\"color: #800000; text-decoration-color: #800000\">Fetching 4 files:  25%|██▌       | 1/4 [01:32&lt;04:36, 92.09s/it]Fetching 4 files: 100%|██████████| 4/4 [01:32&lt;00:00, 23.02s/it]\n",
       "</span></pre>\n"
      ],
      "text/plain": [
       "\u001b[31mFetching 4 files:  25%|██▌       | 1/4 [01:32<04:36, 92.09s/it]Fetching 4 files: 100%|██████████| 4/4 [01:32<00:00, 23.02s/it]\n",
       "\u001b[0m"
      ]
     },
     "metadata": {},
     "output_type": "display_data"
    },
    {
     "data": {
      "text/html": [
       "<pre style=\"white-space:pre;overflow-x:auto;line-height:normal;font-family:Menlo,'DejaVu Sans Mono',consolas,'Courier New',monospace\"><span style=\"color: #800000; text-decoration-color: #800000\">\n",
       "</span></pre>\n"
      ],
      "text/plain": [
       "\u001b[31m\n",
       "\u001b[0m"
      ]
     },
     "metadata": {},
     "output_type": "display_data"
    },
    {
     "data": {
      "text/html": [
       "<pre style=\"white-space:pre;overflow-x:auto;line-height:normal;font-family:Menlo,'DejaVu Sans Mono',consolas,'Courier New',monospace\"><span style=\"color: #800000; text-decoration-color: #800000\">\u001b[1ALoading checkpoint shards:   0%|          | 0/4 [00:00&lt;?, ?it/s]</span></pre>\n"
      ],
      "text/plain": [
       "\u001b[31m\u001b[1ALoading checkpoint shards:   0%|          | 0/4 [00:00<?, ?it/s]\u001b[0m"
      ]
     },
     "metadata": {},
     "output_type": "display_data"
    },
    {
     "data": {
      "text/html": [
       "<pre style=\"white-space:pre;overflow-x:auto;line-height:normal;font-family:Menlo,'DejaVu Sans Mono',consolas,'Courier New',monospace\"><span style=\"color: #800000; text-decoration-color: #800000\">\n",
       "</span></pre>\n"
      ],
      "text/plain": [
       "\u001b[31m\n",
       "\u001b[0m"
      ]
     },
     "metadata": {},
     "output_type": "display_data"
    },
    {
     "data": {
      "text/html": [
       "<pre style=\"white-space:pre;overflow-x:auto;line-height:normal;font-family:Menlo,'DejaVu Sans Mono',consolas,'Courier New',monospace\"><span style=\"color: #800000; text-decoration-color: #800000\">\u001b[1ALoading checkpoint shards:  25%|██▌       | 1/4 [00:04&lt;00:13,  4.43s/it]\n",
       "</span></pre>\n"
      ],
      "text/plain": [
       "\u001b[31m\u001b[1ALoading checkpoint shards:  25%|██▌       | 1/4 [00:04<00:13,  4.43s/it]\n",
       "\u001b[0m"
      ]
     },
     "metadata": {},
     "output_type": "display_data"
    },
    {
     "data": {
      "text/html": [
       "<pre style=\"white-space:pre;overflow-x:auto;line-height:normal;font-family:Menlo,'DejaVu Sans Mono',consolas,'Courier New',monospace\"><span style=\"color: #800000; text-decoration-color: #800000\">\u001b[1ALoading checkpoint shards:  50%|█████     | 2/4 [00:09&lt;00:10,  5.06s/it]\n",
       "</span></pre>\n"
      ],
      "text/plain": [
       "\u001b[31m\u001b[1ALoading checkpoint shards:  50%|█████     | 2/4 [00:09<00:10,  5.06s/it]\n",
       "\u001b[0m"
      ]
     },
     "metadata": {},
     "output_type": "display_data"
    },
    {
     "data": {
      "text/html": [
       "<pre style=\"white-space:pre;overflow-x:auto;line-height:normal;font-family:Menlo,'DejaVu Sans Mono',consolas,'Courier New',monospace\"><span style=\"color: #800000; text-decoration-color: #800000\">\u001b[1ALoading checkpoint shards:  75%|███████▌  | 3/4 [00:15&lt;00:05,  5.43s/it]Loading checkpoint shards: 100%|██████████| 4/4 [00:16&lt;00:00,  3.48s/it]Loading checkpoint shards: 100%|██████████| 4/4 [00:16&lt;00:00,  4.08s/it]\n",
       "</span></pre>\n"
      ],
      "text/plain": [
       "\u001b[31m\u001b[1ALoading checkpoint shards:  75%|███████▌  | 3/4 [00:15<00:05,  5.43s/it]Loading checkpoint shards: 100%|██████████| 4/4 [00:16<00:00,  3.48s/it]Loading checkpoint shards: 100%|██████████| 4/4 [00:16<00:00,  4.08s/it]\n",
       "\u001b[0m"
      ]
     },
     "metadata": {},
     "output_type": "display_data"
    },
    {
     "data": {
      "text/html": [
       "<pre style=\"white-space:pre;overflow-x:auto;line-height:normal;font-family:Menlo,'DejaVu Sans Mono',consolas,'Courier New',monospace\"><span style=\"color: #800000; text-decoration-color: #800000\">Setting `pad_token_id` to `eos_token_id`:128001 for open-end generation.\n",
       "</span></pre>\n"
      ],
      "text/plain": [
       "\u001b[31mSetting `pad_token_id` to `eos_token_id`:128001 for open-end generation.\n",
       "\u001b[0m"
      ]
     },
     "metadata": {},
     "output_type": "display_data"
    },
    {
     "data": {
      "text/html": [
       "<pre style=\"white-space:pre;overflow-x:auto;line-height:normal;font-family:Menlo,'DejaVu Sans Mono',consolas,'Courier New',monospace\"></pre>\n"
      ],
      "text/plain": []
     },
     "metadata": {},
     "output_type": "display_data"
    },
    {
     "data": {
      "text/html": [
       "<pre style=\"white-space:pre;overflow-x:auto;line-height:normal;font-family:Menlo,'DejaVu Sans Mono',consolas,'Courier New',monospace\"><span style=\"color: #808000; text-decoration-color: #808000\">Stopping app - local entrypoint completed.\n",
       "</span></pre>\n"
      ],
      "text/plain": [
       "\u001b[33mStopping app - local entrypoint completed.\n",
       "\u001b[0m"
      ]
     },
     "metadata": {},
     "output_type": "display_data"
    },
    {
     "data": {
      "text/html": [
       "<pre style=\"white-space:pre;overflow-x:auto;line-height:normal;font-family:Menlo,'DejaVu Sans Mono',consolas,'Courier New',monospace\"><span style=\"color: #008000; text-decoration-color: #008000\">✓</span> App completed. <span style=\"color: #b2b2b2; text-decoration-color: #b2b2b2\">View run at </span><span style=\"color: #b2b2b2; text-decoration-color: #b2b2b2; text-decoration: underline\">https://modal.com/apps/arunabeshc/main/ap-59XUJwhH0iPJZ3RNT33lUa</span>\n",
       "</pre>\n"
      ],
      "text/plain": [
       "\u001b[32m✓\u001b[0m App completed. \u001b[38;5;249mView run at \u001b[0m\u001b[4;38;5;249mhttps://modal.com/apps/arunabeshc/main/ap-59XUJwhH0iPJZ3RNT33lUa\u001b[0m\n"
      ]
     },
     "metadata": {},
     "output_type": "display_data"
    },
    {
     "data": {
      "text/plain": [
       "'How to start a data engineering project? What are the most important steps to follow? How can you ensure your data engineering project is a success? In this article, we will explore these questions and provide you with a step-by-step guide on how to start a data engineering project.\\nWhat is a Data Engineering Project?\\nA data engineering project is a project that involves the collection, processing, and analysis of data. Data engineering projects can be used to solve a variety of problems, such as improving customer satisfaction, increasing sales, or reducing costs. Data engineering projects can be complex and time-consuming, but they can also be very rewarding.\\nThe first step in starting a data engineering project is to define the problem you want to solve. What is the goal of your project? What data do you need to collect? How will you process and analyze the data? Once you have a clear understanding of the problem you want to solve, you can begin to develop a plan for your project.\\nThe next step is to gather the necessary data. This can be done through surveys, interviews, focus groups, or other methods. Once you have collected the data, you need to clean and prepare it for analysis. This may involve removing duplicates, correcting errors, or standardizing the data.\\nOnce the data is clean and ready for analysis, you can begin to analyze it. This may involve using statistical techniques, machine learning algorithms, or other methods to extract insights from the data. Once you have analyzed the data, you can begin to develop solutions to the problem you want to solve.\\nThe final step is to implement your solutions. This may involve making changes to your processes, systems, or products. It is important to monitor the results of your solutions and make adjustments as needed. By following these steps, you can ensure that your data engineering project is a success.\\nWhat are the Most Important Steps to Follow?\\nThe most important steps to follow when starting a data engineering project are:\\n1. Define the problem you want to solve.\\n2. Gather the necessary data.\\n3. Clean and prepare the data for analysis.\\n4. Analyze the data.\\n5. Develop solutions to the problem.\\n6. Implement your solutions.\\n7. Monitor the results of your solutions and make adjustments as needed.\\nBy following these steps, you can ensure that your data engineering project is a success.\\nHow to Ensure Your Data Engineering Project is a Success?\\nThere are a few key things you can do to ensure your data engineering project is a success:\\n1. Define the problem you want to solve clearly and concisely.\\n2. Gather the necessary data and clean it thoroughly.\\n3. Analyze the data using appropriate methods and techniques.\\n4. Develop solutions that are based on the insights you gained from the analysis.\\n5. Implement your solutions and monitor the results closely.\\n6. Make adjustments as needed to ensure the project is a success.\\nBy following these steps, you can ensure that your data engineering project is a success.'"
      ]
     },
     "execution_count": 9,
     "metadata": {},
     "output_type": "execute_result"
    }
   ],
   "source": [
    "with modal.enable_output():\n",
    "    with app.run():\n",
    "        result=generate.remote(\"How to start a data engineering project?\")\n",
    "result"
   ]
  },
  {
   "cell_type": "code",
   "execution_count": 10,
   "id": "ec4690b0",
   "metadata": {},
   "outputs": [],
   "source": [
    "func = modal.Function.from_name(\"llama_3.1\", \"generate\")"
   ]
  },
  {
   "cell_type": "code",
   "execution_count": 12,
   "id": "a2f7ab7f",
   "metadata": {},
   "outputs": [
    {
     "name": "stdout",
     "output_type": "stream",
     "text": [
      "how to set up a data engineering project\n",
      "Data Engineering Projects: A Comprehensive Guide\n",
      "Data engineering is a crucial aspect of modern data analysis and management. It involves the process of collecting, cleaning, transforming, and storing data in a way that is useful for data scientists and analysts. In this article, we will explore the concept of data engineering projects and provide a comprehensive guide on how to set up a successful data engineering project.\n",
      "Data engineering projects are complex and require a lot of planning and preparation. It is essential to have a clear understanding of the project’s objectives, scope, and timeline before starting the project. Here are some key steps to consider when setting up a data engineering project:\n",
      "1. Define the Project Scope: The first step in setting up a data engineering project is to define the project scope. This includes identifying the project’s objectives, the data sources, the data transformation process, and the project timeline. It is essential to have a clear understanding of what needs to be done and what the project’s deliverables are.\n",
      "2. Identify the Data Sources: The next step is to identify the data sources that will be used in the project. This includes understanding the data formats, the data volume, and the data quality. It is essential to have a clear understanding of the data sources to ensure that the data can be collected and transformed efficiently.\n",
      "3. Design the Data Transformation Process: Once the data sources have been identified, the next step is to design the data transformation process. This includes understanding the data transformation requirements, the data transformation tools, and the data transformation workflow. It is essential to have a clear understanding of the data transformation process to ensure that the data is transformed efficiently and accurately.\n",
      "4. Choose the Data Storage Solution: The next step is to choose the data storage solution that will be used in the project. This includes understanding the data storage requirements, the data storage tools, and the data storage architecture. It is essential to have a clear understanding of the data storage solution to ensure that the data is stored efficiently and securely.\n",
      "5. Set Up the Data Pipeline: The final step is to set up the data pipeline. This includes understanding the data pipeline requirements, the data pipeline tools, and the data pipeline architecture. It is essential to have a clear understanding of the data pipeline to ensure that the data is collected, transformed, and stored efficiently and accurately.\n",
      "Setting up a data engineering project can be a complex and time-consuming process. However, by following the steps outlined in this article, you can ensure that your project is set up for success. Remember to define the project scope, identify the data sources, design the data transformation process, choose the data storage solution, and set up the data pipeline. With these steps in mind, you can create a successful data engineering project that meets your organization’s data analysis and management needs.\n",
      "In conclusion, data engineering projects are a crucial aspect of modern data analysis and management. By following the steps outlined in this article, you can ensure that your project is set up for success. Remember to define the project scope, identify the data sources, design the data transformation process, choose the data storage solution, and set up the data pipeline. With these steps in mind, you can create a successful data engineering project that meets your organization’s data analysis and management needs.\n"
     ]
    }
   ],
   "source": [
    "print(func.remote(\"how to set up a data engineering project\"))"
   ]
  },
  {
   "cell_type": "code",
   "execution_count": null,
   "id": "b64173f7",
   "metadata": {},
   "outputs": [],
   "source": []
  }
 ],
 "metadata": {
  "kernelspec": {
   "display_name": "kbg",
   "language": "python",
   "name": "python3"
  },
  "language_info": {
   "codemirror_mode": {
    "name": "ipython",
    "version": 3
   },
   "file_extension": ".py",
   "mimetype": "text/x-python",
   "name": "python",
   "nbconvert_exporter": "python",
   "pygments_lexer": "ipython3",
   "version": "3.10.11"
  }
 },
 "nbformat": 4,
 "nbformat_minor": 5
}
